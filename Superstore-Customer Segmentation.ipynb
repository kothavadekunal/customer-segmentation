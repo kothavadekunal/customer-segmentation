{
 "cells": [
  {
   "cell_type": "markdown",
   "id": "589d0fc6",
   "metadata": {},
   "source": [
    "## Customer Segmentation\n",
    "\n",
    "Problem Statement- Segment the customers visiting shopping mall based on Recency,Frequency & Monetary value (RFM score)"
   ]
  },
  {
   "cell_type": "code",
   "execution_count": 1,
   "id": "07828f3d",
   "metadata": {},
   "outputs": [],
   "source": [
    "# Importing the required libraries\n",
    "import numpy as np\n",
    "import pandas as pd\n",
    "import matplotlib.pyplot as plt\n",
    "%matplotlib inline\n",
    "import seaborn as sns\n",
    "\n",
    "import warnings\n",
    "warnings.filterwarnings('ignore')"
   ]
  },
  {
   "cell_type": "code",
   "execution_count": 2,
   "id": "43618293",
   "metadata": {},
   "outputs": [],
   "source": [
    "# Importing the data set\n",
    "df = pd.read_csv(r'G:\\My Drive\\Professional\\Data Science\\Projects\\Customer Segmentation\\shopping_mall.csv',encoding = 'unicode_escape',parse_dates = ['InvoiceDate'])"
   ]
  },
  {
   "cell_type": "markdown",
   "id": "f659684e",
   "metadata": {},
   "source": [
    "### Exploratory Data Analysis"
   ]
  },
  {
   "cell_type": "code",
   "execution_count": 3,
   "id": "0bb6b79d",
   "metadata": {
    "scrolled": true
   },
   "outputs": [
    {
     "data": {
      "text/html": [
       "<div>\n",
       "<style scoped>\n",
       "    .dataframe tbody tr th:only-of-type {\n",
       "        vertical-align: middle;\n",
       "    }\n",
       "\n",
       "    .dataframe tbody tr th {\n",
       "        vertical-align: top;\n",
       "    }\n",
       "\n",
       "    .dataframe thead th {\n",
       "        text-align: right;\n",
       "    }\n",
       "</style>\n",
       "<table border=\"1\" class=\"dataframe\">\n",
       "  <thead>\n",
       "    <tr style=\"text-align: right;\">\n",
       "      <th></th>\n",
       "      <th>InvoiceNo</th>\n",
       "      <th>StockCode</th>\n",
       "      <th>Description</th>\n",
       "      <th>Quantity</th>\n",
       "      <th>InvoiceDate</th>\n",
       "      <th>UnitPrice</th>\n",
       "      <th>CustomerID</th>\n",
       "      <th>Country</th>\n",
       "    </tr>\n",
       "  </thead>\n",
       "  <tbody>\n",
       "    <tr>\n",
       "      <th>0</th>\n",
       "      <td>536627</td>\n",
       "      <td>22783</td>\n",
       "      <td>SET 3 WICKER OVAL BASKETS W LIDS</td>\n",
       "      <td>1</td>\n",
       "      <td>2010-12-02 10:53:00</td>\n",
       "      <td>19.95</td>\n",
       "      <td>15658.0</td>\n",
       "      <td>United Kingdom</td>\n",
       "    </tr>\n",
       "    <tr>\n",
       "      <th>1</th>\n",
       "      <td>536627</td>\n",
       "      <td>22941</td>\n",
       "      <td>CHRISTMAS LIGHTS 10 REINDEER</td>\n",
       "      <td>2</td>\n",
       "      <td>2010-12-02 10:53:00</td>\n",
       "      <td>8.50</td>\n",
       "      <td>15658.0</td>\n",
       "      <td>United Kingdom</td>\n",
       "    </tr>\n",
       "    <tr>\n",
       "      <th>2</th>\n",
       "      <td>536627</td>\n",
       "      <td>21756</td>\n",
       "      <td>BATH BUILDING BLOCK WORD</td>\n",
       "      <td>3</td>\n",
       "      <td>2010-12-02 10:53:00</td>\n",
       "      <td>5.95</td>\n",
       "      <td>15658.0</td>\n",
       "      <td>United Kingdom</td>\n",
       "    </tr>\n",
       "    <tr>\n",
       "      <th>3</th>\n",
       "      <td>536627</td>\n",
       "      <td>22961</td>\n",
       "      <td>JAM MAKING SET PRINTED</td>\n",
       "      <td>12</td>\n",
       "      <td>2010-12-02 10:53:00</td>\n",
       "      <td>1.45</td>\n",
       "      <td>15658.0</td>\n",
       "      <td>United Kingdom</td>\n",
       "    </tr>\n",
       "    <tr>\n",
       "      <th>4</th>\n",
       "      <td>536627</td>\n",
       "      <td>22423</td>\n",
       "      <td>REGENCY CAKESTAND 3 TIER</td>\n",
       "      <td>4</td>\n",
       "      <td>2010-12-02 10:53:00</td>\n",
       "      <td>12.75</td>\n",
       "      <td>15658.0</td>\n",
       "      <td>United Kingdom</td>\n",
       "    </tr>\n",
       "  </tbody>\n",
       "</table>\n",
       "</div>"
      ],
      "text/plain": [
       "  InvoiceNo StockCode                       Description  Quantity  \\\n",
       "0    536627     22783  SET 3 WICKER OVAL BASKETS W LIDS         1   \n",
       "1    536627     22941      CHRISTMAS LIGHTS 10 REINDEER         2   \n",
       "2    536627     21756          BATH BUILDING BLOCK WORD         3   \n",
       "3    536627     22961            JAM MAKING SET PRINTED        12   \n",
       "4    536627     22423          REGENCY CAKESTAND 3 TIER         4   \n",
       "\n",
       "          InvoiceDate  UnitPrice  CustomerID         Country  \n",
       "0 2010-12-02 10:53:00      19.95     15658.0  United Kingdom  \n",
       "1 2010-12-02 10:53:00       8.50     15658.0  United Kingdom  \n",
       "2 2010-12-02 10:53:00       5.95     15658.0  United Kingdom  \n",
       "3 2010-12-02 10:53:00       1.45     15658.0  United Kingdom  \n",
       "4 2010-12-02 10:53:00      12.75     15658.0  United Kingdom  "
      ]
     },
     "execution_count": 3,
     "metadata": {},
     "output_type": "execute_result"
    }
   ],
   "source": [
    "df.head()"
   ]
  },
  {
   "cell_type": "code",
   "execution_count": 4,
   "id": "cd62e456",
   "metadata": {
    "scrolled": true
   },
   "outputs": [
    {
     "name": "stdout",
     "output_type": "stream",
     "text": [
      "<class 'pandas.core.frame.DataFrame'>\n",
      "RangeIndex: 75120 entries, 0 to 75119\n",
      "Data columns (total 8 columns):\n",
      " #   Column       Non-Null Count  Dtype         \n",
      "---  ------       --------------  -----         \n",
      " 0   InvoiceNo    75120 non-null  object        \n",
      " 1   StockCode    75120 non-null  object        \n",
      " 2   Description  74915 non-null  object        \n",
      " 3   Quantity     75120 non-null  int64         \n",
      " 4   InvoiceDate  75120 non-null  datetime64[ns]\n",
      " 5   UnitPrice    75120 non-null  float64       \n",
      " 6   CustomerID   48212 non-null  float64       \n",
      " 7   Country      75120 non-null  object        \n",
      "dtypes: datetime64[ns](1), float64(2), int64(1), object(4)\n",
      "memory usage: 4.6+ MB\n"
     ]
    }
   ],
   "source": [
    "df.info()"
   ]
  },
  {
   "cell_type": "markdown",
   "id": "8246358c",
   "metadata": {},
   "source": [
    "* ***Dataset contains 75120 invoice records and 8 columns***\n",
    "* ***Missing values are present in Description and CustomerID columns***"
   ]
  },
  {
   "cell_type": "code",
   "execution_count": 5,
   "id": "da81a146",
   "metadata": {},
   "outputs": [
    {
     "data": {
      "text/html": [
       "<div>\n",
       "<style scoped>\n",
       "    .dataframe tbody tr th:only-of-type {\n",
       "        vertical-align: middle;\n",
       "    }\n",
       "\n",
       "    .dataframe tbody tr th {\n",
       "        vertical-align: top;\n",
       "    }\n",
       "\n",
       "    .dataframe thead th {\n",
       "        text-align: right;\n",
       "    }\n",
       "</style>\n",
       "<table border=\"1\" class=\"dataframe\">\n",
       "  <thead>\n",
       "    <tr style=\"text-align: right;\">\n",
       "      <th></th>\n",
       "      <th>Quantity</th>\n",
       "      <th>UnitPrice</th>\n",
       "      <th>CustomerID</th>\n",
       "    </tr>\n",
       "  </thead>\n",
       "  <tbody>\n",
       "    <tr>\n",
       "      <th>count</th>\n",
       "      <td>75120.000000</td>\n",
       "      <td>75120.00000</td>\n",
       "      <td>48212.000000</td>\n",
       "    </tr>\n",
       "    <tr>\n",
       "      <th>mean</th>\n",
       "      <td>9.043384</td>\n",
       "      <td>5.25234</td>\n",
       "      <td>15257.869327</td>\n",
       "    </tr>\n",
       "    <tr>\n",
       "      <th>std</th>\n",
       "      <td>387.339709</td>\n",
       "      <td>116.75314</td>\n",
       "      <td>1765.475916</td>\n",
       "    </tr>\n",
       "    <tr>\n",
       "      <th>min</th>\n",
       "      <td>-74215.000000</td>\n",
       "      <td>0.00000</td>\n",
       "      <td>12346.000000</td>\n",
       "    </tr>\n",
       "    <tr>\n",
       "      <th>25%</th>\n",
       "      <td>1.000000</td>\n",
       "      <td>1.25000</td>\n",
       "      <td>13767.000000</td>\n",
       "    </tr>\n",
       "    <tr>\n",
       "      <th>50%</th>\n",
       "      <td>3.000000</td>\n",
       "      <td>2.46000</td>\n",
       "      <td>15078.000000</td>\n",
       "    </tr>\n",
       "    <tr>\n",
       "      <th>75%</th>\n",
       "      <td>9.000000</td>\n",
       "      <td>4.24000</td>\n",
       "      <td>16916.000000</td>\n",
       "    </tr>\n",
       "    <tr>\n",
       "      <th>max</th>\n",
       "      <td>74215.000000</td>\n",
       "      <td>16888.02000</td>\n",
       "      <td>18283.000000</td>\n",
       "    </tr>\n",
       "  </tbody>\n",
       "</table>\n",
       "</div>"
      ],
      "text/plain": [
       "           Quantity    UnitPrice    CustomerID\n",
       "count  75120.000000  75120.00000  48212.000000\n",
       "mean       9.043384      5.25234  15257.869327\n",
       "std      387.339709    116.75314   1765.475916\n",
       "min   -74215.000000      0.00000  12346.000000\n",
       "25%        1.000000      1.25000  13767.000000\n",
       "50%        3.000000      2.46000  15078.000000\n",
       "75%        9.000000      4.24000  16916.000000\n",
       "max    74215.000000  16888.02000  18283.000000"
      ]
     },
     "execution_count": 5,
     "metadata": {},
     "output_type": "execute_result"
    }
   ],
   "source": [
    "df.describe()"
   ]
  },
  {
   "cell_type": "markdown",
   "id": "19d2aac8",
   "metadata": {},
   "source": [
    "* ***Negative quantities are present in the data.Needs to be evaluated further.***\n",
    "* ***Some items are free (zero priced)***\n",
    "* ***Median UnitPrice of the products is 2.46***"
   ]
  },
  {
   "cell_type": "code",
   "execution_count": 6,
   "id": "1f44bfd3",
   "metadata": {
    "scrolled": true
   },
   "outputs": [
    {
     "data": {
      "text/html": [
       "<div>\n",
       "<style scoped>\n",
       "    .dataframe tbody tr th:only-of-type {\n",
       "        vertical-align: middle;\n",
       "    }\n",
       "\n",
       "    .dataframe tbody tr th {\n",
       "        vertical-align: top;\n",
       "    }\n",
       "\n",
       "    .dataframe thead th {\n",
       "        text-align: right;\n",
       "    }\n",
       "</style>\n",
       "<table border=\"1\" class=\"dataframe\">\n",
       "  <thead>\n",
       "    <tr style=\"text-align: right;\">\n",
       "      <th></th>\n",
       "      <th>count</th>\n",
       "      <th>unique</th>\n",
       "      <th>top</th>\n",
       "      <th>freq</th>\n",
       "    </tr>\n",
       "  </thead>\n",
       "  <tbody>\n",
       "    <tr>\n",
       "      <th>InvoiceNo</th>\n",
       "      <td>75120</td>\n",
       "      <td>3477</td>\n",
       "      <td>537666</td>\n",
       "      <td>536</td>\n",
       "    </tr>\n",
       "    <tr>\n",
       "      <th>StockCode</th>\n",
       "      <td>75120</td>\n",
       "      <td>3160</td>\n",
       "      <td>85123A</td>\n",
       "      <td>395</td>\n",
       "    </tr>\n",
       "    <tr>\n",
       "      <th>Description</th>\n",
       "      <td>74915</td>\n",
       "      <td>3080</td>\n",
       "      <td>WHITE HANGING HEART T-LIGHT HOLDER</td>\n",
       "      <td>402</td>\n",
       "    </tr>\n",
       "    <tr>\n",
       "      <th>Country</th>\n",
       "      <td>75120</td>\n",
       "      <td>30</td>\n",
       "      <td>United Kingdom</td>\n",
       "      <td>68591</td>\n",
       "    </tr>\n",
       "  </tbody>\n",
       "</table>\n",
       "</div>"
      ],
      "text/plain": [
       "             count unique                                 top   freq\n",
       "InvoiceNo    75120   3477                              537666    536\n",
       "StockCode    75120   3160                              85123A    395\n",
       "Description  74915   3080  WHITE HANGING HEART T-LIGHT HOLDER    402\n",
       "Country      75120     30                      United Kingdom  68591"
      ]
     },
     "execution_count": 6,
     "metadata": {},
     "output_type": "execute_result"
    }
   ],
   "source": [
    "df.describe(include = 'O').transpose()"
   ]
  },
  {
   "cell_type": "markdown",
   "id": "729d5267",
   "metadata": {},
   "source": [
    "* ***Multiple instances of same InvoiceNo exists.***\n",
    "* ***3477 unique Invoices are present in the data***\n",
    "* ***Data is present for 30 unique countries***"
   ]
  },
  {
   "cell_type": "code",
   "execution_count": 7,
   "id": "7c53a3be",
   "metadata": {},
   "outputs": [
    {
     "data": {
      "text/plain": [
       "(Timestamp('2010-12-02 10:53:00'), Timestamp('2011-06-08 12:21:00'))"
      ]
     },
     "execution_count": 7,
     "metadata": {},
     "output_type": "execute_result"
    }
   ],
   "source": [
    "df['InvoiceDate'].min(),df['InvoiceDate'].max()"
   ]
  },
  {
   "cell_type": "markdown",
   "id": "5752dc26",
   "metadata": {},
   "source": [
    "* ***Invoice data is present for duration between 02/Dec/2010 and 08/06/2011 - 7 months***"
   ]
  },
  {
   "cell_type": "code",
   "execution_count": 8,
   "id": "f3fec305",
   "metadata": {},
   "outputs": [
    {
     "data": {
      "image/png": "[encoded data removed]",
      "text/plain": [
       "<Figure size 640x480 with 1 Axes>"
      ]
     },
     "metadata": {},
     "output_type": "display_data"
    }
   ],
   "source": [
    "country = df['Country'].value_counts().head(10).reset_index().rename(columns = {'index':'Country','Country':'Count'})\n",
    "sns.barplot(data = country,x = 'Country',y = 'Count')\n",
    "plt.xticks(rotation = 90)\n",
    "plt.title('Total Invoice records by Country')\n",
    "plt.show()"
   ]
  },
  {
   "cell_type": "code",
   "execution_count": 9,
   "id": "e1b3227d",
   "metadata": {},
   "outputs": [
    {
     "data": {
      "image/png": "[encoded data removed]",
      "text/plain": [
       "<Figure size 640x480 with 1 Axes>"
      ]
     },
     "metadata": {},
     "output_type": "display_data"
    }
   ],
   "source": [
    "products = df['Description'].value_counts().head(10).reset_index().rename(columns = {'index':'Description','Description':'Count'})\n",
    "sns.barplot(data = products,x = 'Description',y = 'Count')\n",
    "plt.xticks(rotation = 90)\n",
    "plt.title('Top 10 popular products purchased')\n",
    "plt.show()"
   ]
  },
  {
   "cell_type": "code",
   "execution_count": 10,
   "id": "a954efad",
   "metadata": {
    "scrolled": true
   },
   "outputs": [
    {
     "data": {
      "text/html": [
       "<div>\n",
       "<style scoped>\n",
       "    .dataframe tbody tr th:only-of-type {\n",
       "        vertical-align: middle;\n",
       "    }\n",
       "\n",
       "    .dataframe tbody tr th {\n",
       "        vertical-align: top;\n",
       "    }\n",
       "\n",
       "    .dataframe thead th {\n",
       "        text-align: right;\n",
       "    }\n",
       "</style>\n",
       "<table border=\"1\" class=\"dataframe\">\n",
       "  <thead>\n",
       "    <tr style=\"text-align: right;\">\n",
       "      <th></th>\n",
       "      <th>InvoiceNo</th>\n",
       "      <th>StockCode</th>\n",
       "      <th>Description</th>\n",
       "      <th>Quantity</th>\n",
       "      <th>InvoiceDate</th>\n",
       "      <th>UnitPrice</th>\n",
       "      <th>CustomerID</th>\n",
       "      <th>Country</th>\n",
       "    </tr>\n",
       "  </thead>\n",
       "  <tbody>\n",
       "    <tr>\n",
       "      <th>276</th>\n",
       "      <td>C536642</td>\n",
       "      <td>21463</td>\n",
       "      <td>MIRRORED DISCO BALL</td>\n",
       "      <td>-1</td>\n",
       "      <td>2010-12-02 11:56:00</td>\n",
       "      <td>5.95</td>\n",
       "      <td>14390.0</td>\n",
       "      <td>United Kingdom</td>\n",
       "    </tr>\n",
       "    <tr>\n",
       "      <th>494</th>\n",
       "      <td>C536734</td>\n",
       "      <td>22780</td>\n",
       "      <td>LIGHT GARLAND BUTTERFILES PINK</td>\n",
       "      <td>-4</td>\n",
       "      <td>2010-12-02 12:50:00</td>\n",
       "      <td>4.25</td>\n",
       "      <td>16042.0</td>\n",
       "      <td>United Kingdom</td>\n",
       "    </tr>\n",
       "    <tr>\n",
       "      <th>495</th>\n",
       "      <td>C536734</td>\n",
       "      <td>85048</td>\n",
       "      <td>15CM CHRISTMAS GLASS BALL 20 LIGHTS</td>\n",
       "      <td>-1</td>\n",
       "      <td>2010-12-02 12:50:00</td>\n",
       "      <td>7.95</td>\n",
       "      <td>16042.0</td>\n",
       "      <td>United Kingdom</td>\n",
       "    </tr>\n",
       "    <tr>\n",
       "      <th>502</th>\n",
       "      <td>C536737</td>\n",
       "      <td>22798</td>\n",
       "      <td>ANTIQUE GLASS DRESSING TABLE POT</td>\n",
       "      <td>-2</td>\n",
       "      <td>2010-12-02 13:05:00</td>\n",
       "      <td>2.95</td>\n",
       "      <td>15922.0</td>\n",
       "      <td>United Kingdom</td>\n",
       "    </tr>\n",
       "    <tr>\n",
       "      <th>870</th>\n",
       "      <td>C536757</td>\n",
       "      <td>84347</td>\n",
       "      <td>ROTATING SILVER ANGELS T-LIGHT HLDR</td>\n",
       "      <td>-9360</td>\n",
       "      <td>2010-12-02 14:23:00</td>\n",
       "      <td>0.03</td>\n",
       "      <td>15838.0</td>\n",
       "      <td>United Kingdom</td>\n",
       "    </tr>\n",
       "    <tr>\n",
       "      <th>...</th>\n",
       "      <td>...</td>\n",
       "      <td>...</td>\n",
       "      <td>...</td>\n",
       "      <td>...</td>\n",
       "      <td>...</td>\n",
       "      <td>...</td>\n",
       "      <td>...</td>\n",
       "      <td>...</td>\n",
       "    </tr>\n",
       "    <tr>\n",
       "      <th>75001</th>\n",
       "      <td>556012</td>\n",
       "      <td>15044B</td>\n",
       "      <td>NaN</td>\n",
       "      <td>-27</td>\n",
       "      <td>2011-06-08 11:45:00</td>\n",
       "      <td>0.00</td>\n",
       "      <td>NaN</td>\n",
       "      <td>United Kingdom</td>\n",
       "    </tr>\n",
       "    <tr>\n",
       "      <th>75002</th>\n",
       "      <td>C556011</td>\n",
       "      <td>23155</td>\n",
       "      <td>KNICKERBOCKERGLORY MAGNET ASSORTED</td>\n",
       "      <td>-6</td>\n",
       "      <td>2011-06-08 11:45:00</td>\n",
       "      <td>0.83</td>\n",
       "      <td>14475.0</td>\n",
       "      <td>United Kingdom</td>\n",
       "    </tr>\n",
       "    <tr>\n",
       "      <th>75003</th>\n",
       "      <td>556013</td>\n",
       "      <td>21662</td>\n",
       "      <td>NaN</td>\n",
       "      <td>-17</td>\n",
       "      <td>2011-06-08 11:46:00</td>\n",
       "      <td>0.00</td>\n",
       "      <td>NaN</td>\n",
       "      <td>United Kingdom</td>\n",
       "    </tr>\n",
       "    <tr>\n",
       "      <th>75004</th>\n",
       "      <td>556014</td>\n",
       "      <td>37476</td>\n",
       "      <td>NaN</td>\n",
       "      <td>-3</td>\n",
       "      <td>2011-06-08 11:46:00</td>\n",
       "      <td>0.00</td>\n",
       "      <td>NaN</td>\n",
       "      <td>United Kingdom</td>\n",
       "    </tr>\n",
       "    <tr>\n",
       "      <th>75005</th>\n",
       "      <td>556015</td>\n",
       "      <td>37501</td>\n",
       "      <td>NaN</td>\n",
       "      <td>-13</td>\n",
       "      <td>2011-06-08 11:50:00</td>\n",
       "      <td>0.00</td>\n",
       "      <td>NaN</td>\n",
       "      <td>United Kingdom</td>\n",
       "    </tr>\n",
       "  </tbody>\n",
       "</table>\n",
       "<p>1618 rows × 8 columns</p>\n",
       "</div>"
      ],
      "text/plain": [
       "      InvoiceNo StockCode                          Description  Quantity  \\\n",
       "276     C536642     21463                 MIRRORED DISCO BALL         -1   \n",
       "494     C536734     22780       LIGHT GARLAND BUTTERFILES PINK        -4   \n",
       "495     C536734     85048  15CM CHRISTMAS GLASS BALL 20 LIGHTS        -1   \n",
       "502     C536737     22798     ANTIQUE GLASS DRESSING TABLE POT        -2   \n",
       "870     C536757     84347  ROTATING SILVER ANGELS T-LIGHT HLDR     -9360   \n",
       "...         ...       ...                                  ...       ...   \n",
       "75001    556012    15044B                                  NaN       -27   \n",
       "75002   C556011     23155  KNICKERBOCKERGLORY MAGNET ASSORTED         -6   \n",
       "75003    556013     21662                                  NaN       -17   \n",
       "75004    556014     37476                                  NaN        -3   \n",
       "75005    556015     37501                                  NaN       -13   \n",
       "\n",
       "              InvoiceDate  UnitPrice  CustomerID         Country  \n",
       "276   2010-12-02 11:56:00       5.95     14390.0  United Kingdom  \n",
       "494   2010-12-02 12:50:00       4.25     16042.0  United Kingdom  \n",
       "495   2010-12-02 12:50:00       7.95     16042.0  United Kingdom  \n",
       "502   2010-12-02 13:05:00       2.95     15922.0  United Kingdom  \n",
       "870   2010-12-02 14:23:00       0.03     15838.0  United Kingdom  \n",
       "...                   ...        ...         ...             ...  \n",
       "75001 2011-06-08 11:45:00       0.00         NaN  United Kingdom  \n",
       "75002 2011-06-08 11:45:00       0.83     14475.0  United Kingdom  \n",
       "75003 2011-06-08 11:46:00       0.00         NaN  United Kingdom  \n",
       "75004 2011-06-08 11:46:00       0.00         NaN  United Kingdom  \n",
       "75005 2011-06-08 11:50:00       0.00         NaN  United Kingdom  \n",
       "\n",
       "[1618 rows x 8 columns]"
      ]
     },
     "execution_count": 10,
     "metadata": {},
     "output_type": "execute_result"
    }
   ],
   "source": [
    "# evaluating records with negative quantities\n",
    "df[df['Quantity'] < 0]"
   ]
  },
  {
   "cell_type": "code",
   "execution_count": 11,
   "id": "6154147d",
   "metadata": {
    "scrolled": true
   },
   "outputs": [
    {
     "data": {
      "text/plain": [
       "REGENCY CAKESTAND 3 TIER               44\n",
       "Manual                                 23\n",
       "JAM MAKING SET WITH JARS               18\n",
       "STRAWBERRY CERAMIC TRINKET BOX         16\n",
       "POSTAGE                                15\n",
       "                                       ..\n",
       "BLUE GEISHA GIRL                        1\n",
       "MEDIUM CERAMIC TOP STORAGE JAR          1\n",
       "ROUND SNACK BOXES SET OF 4 SKULLS       1\n",
       "HANGING METAL HEART LANTERN             1\n",
       "KNICKERBOCKERGLORY MAGNET ASSORTED      1\n",
       "Name: Description, Length: 706, dtype: int64"
      ]
     },
     "execution_count": 11,
     "metadata": {},
     "output_type": "execute_result"
    }
   ],
   "source": [
    "df[df['Quantity'] < 0]['Description'].value_counts()"
   ]
  },
  {
   "cell_type": "markdown",
   "id": "c7b36ab2",
   "metadata": {},
   "source": [
    "* ***1618 records have negative quantities***\n",
    "* ***Maximum records (44) with negative quantities are for 'REGENCY CAKESTAND 3 TIER'***\n",
    "    * *Follwed by 'Manual' entries (23)*"
   ]
  },
  {
   "cell_type": "code",
   "execution_count": 12,
   "id": "90980990",
   "metadata": {
    "scrolled": true
   },
   "outputs": [],
   "source": [
    "# evaluating records with missing \"Description\"\n",
    "\n",
    "missing_descr = df[df['Description'].isnull()]"
   ]
  },
  {
   "cell_type": "code",
   "execution_count": 13,
   "id": "4a93fd0a",
   "metadata": {},
   "outputs": [
    {
     "data": {
      "text/plain": [
       "United Kingdom    205\n",
       "Name: Country, dtype: int64"
      ]
     },
     "execution_count": 13,
     "metadata": {},
     "output_type": "execute_result"
    }
   ],
   "source": [
    "missing_descr['Country'].value_counts()"
   ]
  },
  {
   "cell_type": "code",
   "execution_count": 14,
   "id": "1d234d95",
   "metadata": {
    "scrolled": true
   },
   "outputs": [
    {
     "data": {
      "text/plain": [
       "count    205.0\n",
       "mean       0.0\n",
       "std        0.0\n",
       "min        0.0\n",
       "25%        0.0\n",
       "50%        0.0\n",
       "75%        0.0\n",
       "max        0.0\n",
       "Name: UnitPrice, dtype: float64"
      ]
     },
     "execution_count": 14,
     "metadata": {},
     "output_type": "execute_result"
    }
   ],
   "source": [
    "missing_descr['UnitPrice'].describe()"
   ]
  },
  {
   "cell_type": "code",
   "execution_count": 15,
   "id": "2712a33a",
   "metadata": {},
   "outputs": [
    {
     "data": {
      "text/plain": [
       "Series([], Name: CustomerID, dtype: int64)"
      ]
     },
     "execution_count": 15,
     "metadata": {},
     "output_type": "execute_result"
    }
   ],
   "source": [
    "missing_descr['CustomerID'].value_counts()"
   ]
  },
  {
   "cell_type": "markdown",
   "id": "f18793bb",
   "metadata": {},
   "source": [
    "* ***Records with missing description***\n",
    "    * *All records are for UK customers*\n",
    "    * *All records have UnitPrice 'zero'*\n",
    "    * *'CustomerID' is also missing for these records*"
   ]
  },
  {
   "cell_type": "code",
   "execution_count": 16,
   "id": "92e539cc",
   "metadata": {},
   "outputs": [],
   "source": [
    "# evaluating records with missing \"CustomerID\"\n",
    "\n",
    "missing_id = df[df['CustomerID'].isnull()]"
   ]
  },
  {
   "cell_type": "code",
   "execution_count": 17,
   "id": "d0481b28",
   "metadata": {
    "scrolled": true
   },
   "outputs": [
    {
     "data": {
      "text/plain": [
       "United Kingdom    0.992939\n",
       "EIRE              0.004348\n",
       "Hong Kong         0.002118\n",
       "Israel            0.000520\n",
       "Bahrain           0.000074\n",
       "Name: Country, dtype: float64"
      ]
     },
     "execution_count": 17,
     "metadata": {},
     "output_type": "execute_result"
    }
   ],
   "source": [
    "missing_id['Country'].value_counts(normalize = True)"
   ]
  },
  {
   "cell_type": "code",
   "execution_count": 18,
   "id": "cef6ff7b",
   "metadata": {
    "scrolled": true
   },
   "outputs": [
    {
     "data": {
      "text/plain": [
       "count    26908.000000\n",
       "mean         8.598809\n",
       "std        194.340305\n",
       "min          0.000000\n",
       "25%          1.630000\n",
       "50%          3.290000\n",
       "75%          5.380000\n",
       "max      16888.020000\n",
       "Name: UnitPrice, dtype: float64"
      ]
     },
     "execution_count": 18,
     "metadata": {},
     "output_type": "execute_result"
    }
   ],
   "source": [
    "missing_id['UnitPrice'].describe()"
   ]
  },
  {
   "cell_type": "code",
   "execution_count": 19,
   "id": "cbbd922f",
   "metadata": {},
   "outputs": [
    {
     "data": {
      "text/plain": [
       "count    26908.000000\n",
       "mean         2.785566\n",
       "std         46.056018\n",
       "min      -2600.000000\n",
       "25%          1.000000\n",
       "50%          1.000000\n",
       "75%          3.000000\n",
       "max       5568.000000\n",
       "Name: Quantity, dtype: float64"
      ]
     },
     "execution_count": 19,
     "metadata": {},
     "output_type": "execute_result"
    }
   ],
   "source": [
    "missing_id['Quantity'].describe()"
   ]
  },
  {
   "cell_type": "code",
   "execution_count": 20,
   "id": "cb57e66a",
   "metadata": {
    "scrolled": false
   },
   "outputs": [
    {
     "data": {
      "text/plain": [
       "DOTCOM POSTAGE                         144\n",
       "JUMBO BAG RED RETROSPOT                 90\n",
       "RECYCLING BAG RETROSPOT                 79\n",
       "SMALL POPCORN HOLDER                    75\n",
       "HEART OF WICKER SMALL                   71\n",
       "                                      ... \n",
       "AMETHYST CHUNKY BEAD BRACELET W STR      1\n",
       "PINK MONTE CARLO HANDBAG                 1\n",
       "ASS COLOUR GLOWING TIARAS                1\n",
       "NUMBER TILE VINTAGE FONT 7               1\n",
       "SILVER BLACK ORBIT DROP EARRINGS         1\n",
       "Name: Description, Length: 2439, dtype: int64"
      ]
     },
     "execution_count": 20,
     "metadata": {},
     "output_type": "execute_result"
    }
   ],
   "source": [
    "missing_id['Description'].value_counts()"
   ]
  },
  {
   "cell_type": "markdown",
   "id": "7493d0b6",
   "metadata": {},
   "source": [
    "* ***Maximum records with missing CustomerID are from UK (99.29%)***\n",
    "    * *Followed by EIRE (0.4%),HongKong(0.2%),Israel*\n",
    "* ***Assumption: Records with negative quantities can be return products.***"
   ]
  },
  {
   "cell_type": "markdown",
   "id": "63e14dce",
   "metadata": {},
   "source": [
    "### Data Preprocessing"
   ]
  },
  {
   "cell_type": "markdown",
   "id": "48bb2992",
   "metadata": {},
   "source": [
    "* ***1.Columns StockCode,Description,Country are not important for this use case of segmentation on the basis of RFM***\n",
    "    * *Dropping these columns*"
   ]
  },
  {
   "cell_type": "code",
   "execution_count": 21,
   "id": "5d390669",
   "metadata": {},
   "outputs": [],
   "source": [
    "df2 = df.drop(columns = ['StockCode','Description','Country'])"
   ]
  },
  {
   "cell_type": "markdown",
   "id": "1481b45b",
   "metadata": {},
   "source": [
    "* ***2.Records with missing CustomerID are of no importance.***\n",
    "    * *CustomerID is critical to segment the customers.We cannot impute the missing values in this particular case.*\n",
    "    * *Dropping the records with missing CustomerID.*"
   ]
  },
  {
   "cell_type": "code",
   "execution_count": 22,
   "id": "1e341e1f",
   "metadata": {},
   "outputs": [],
   "source": [
    "df2.dropna(subset = ['CustomerID'],inplace = True)"
   ]
  },
  {
   "cell_type": "code",
   "execution_count": 23,
   "id": "c0594401",
   "metadata": {
    "scrolled": true
   },
   "outputs": [
    {
     "data": {
      "text/plain": [
       "(48212, 5)"
      ]
     },
     "execution_count": 23,
     "metadata": {},
     "output_type": "execute_result"
    }
   ],
   "source": [
    "df2.shape"
   ]
  },
  {
   "cell_type": "markdown",
   "id": "40f42305",
   "metadata": {},
   "source": [
    "* ***3.Assuming the records with negative quantities are return items,***\n",
    "    * *Replacing the negative quantities with '0'*"
   ]
  },
  {
   "cell_type": "code",
   "execution_count": 24,
   "id": "e0aeedec",
   "metadata": {},
   "outputs": [],
   "source": [
    "df2['Quantity'] = np.where(df2['Quantity'] < 0,0,df2['Quantity'])"
   ]
  },
  {
   "cell_type": "markdown",
   "id": "787e1ddf",
   "metadata": {},
   "source": [
    "* ***4.Creating total price column***\n",
    "    * *Dropping Quantity & UnitPrice columns*"
   ]
  },
  {
   "cell_type": "code",
   "execution_count": 25,
   "id": "3d15534c",
   "metadata": {},
   "outputs": [],
   "source": [
    "df2['Total'] = df2['Quantity'] * df2['UnitPrice']"
   ]
  },
  {
   "cell_type": "code",
   "execution_count": 26,
   "id": "2c33fc74",
   "metadata": {},
   "outputs": [],
   "source": [
    "df3 = df2.drop(columns =['Quantity','UnitPrice'])"
   ]
  },
  {
   "cell_type": "markdown",
   "id": "879e5ba2",
   "metadata": {},
   "source": [
    "* ***4.Aggregating the total invoice amount for each Invoice***"
   ]
  },
  {
   "cell_type": "code",
   "execution_count": 27,
   "id": "6a6e339e",
   "metadata": {},
   "outputs": [],
   "source": [
    "# Getting the sum of total invoice amount for each Invoice\n",
    "df4 = df3.groupby('InvoiceNo')['Total'].sum().reset_index()"
   ]
  },
  {
   "cell_type": "code",
   "execution_count": 28,
   "id": "b399a826",
   "metadata": {},
   "outputs": [],
   "source": [
    "# Dropping duplicated rows for invoice\n",
    "df3_new = df3.drop('Total',axis = 1).drop_duplicates(subset = ['InvoiceNo'])"
   ]
  },
  {
   "cell_type": "code",
   "execution_count": 29,
   "id": "a5f0345c",
   "metadata": {},
   "outputs": [],
   "source": [
    "df5 = pd.merge(df3_new,df4,on = 'InvoiceNo',how = 'left')"
   ]
  },
  {
   "cell_type": "code",
   "execution_count": 30,
   "id": "7bd97456",
   "metadata": {
    "scrolled": false
   },
   "outputs": [
    {
     "data": {
      "text/html": [
       "<div>\n",
       "<style scoped>\n",
       "    .dataframe tbody tr th:only-of-type {\n",
       "        vertical-align: middle;\n",
       "    }\n",
       "\n",
       "    .dataframe tbody tr th {\n",
       "        vertical-align: top;\n",
       "    }\n",
       "\n",
       "    .dataframe thead th {\n",
       "        text-align: right;\n",
       "    }\n",
       "</style>\n",
       "<table border=\"1\" class=\"dataframe\">\n",
       "  <thead>\n",
       "    <tr style=\"text-align: right;\">\n",
       "      <th></th>\n",
       "      <th>InvoiceNo</th>\n",
       "      <th>InvoiceDate</th>\n",
       "      <th>CustomerID</th>\n",
       "      <th>Total</th>\n",
       "    </tr>\n",
       "  </thead>\n",
       "  <tbody>\n",
       "    <tr>\n",
       "      <th>0</th>\n",
       "      <td>536627</td>\n",
       "      <td>2010-12-02 10:53:00</td>\n",
       "      <td>15658.0</td>\n",
       "      <td>217.80</td>\n",
       "    </tr>\n",
       "    <tr>\n",
       "      <th>1</th>\n",
       "      <td>536628</td>\n",
       "      <td>2010-12-02 10:54:00</td>\n",
       "      <td>17850.0</td>\n",
       "      <td>230.56</td>\n",
       "    </tr>\n",
       "    <tr>\n",
       "      <th>2</th>\n",
       "      <td>536629</td>\n",
       "      <td>2010-12-02 10:55:00</td>\n",
       "      <td>17850.0</td>\n",
       "      <td>22.20</td>\n",
       "    </tr>\n",
       "    <tr>\n",
       "      <th>3</th>\n",
       "      <td>536630</td>\n",
       "      <td>2010-12-02 10:56:00</td>\n",
       "      <td>17850.0</td>\n",
       "      <td>244.46</td>\n",
       "    </tr>\n",
       "    <tr>\n",
       "      <th>4</th>\n",
       "      <td>536631</td>\n",
       "      <td>2010-12-02 10:58:00</td>\n",
       "      <td>17850.0</td>\n",
       "      <td>22.20</td>\n",
       "    </tr>\n",
       "  </tbody>\n",
       "</table>\n",
       "</div>"
      ],
      "text/plain": [
       "  InvoiceNo         InvoiceDate  CustomerID   Total\n",
       "0    536627 2010-12-02 10:53:00     15658.0  217.80\n",
       "1    536628 2010-12-02 10:54:00     17850.0  230.56\n",
       "2    536629 2010-12-02 10:55:00     17850.0   22.20\n",
       "3    536630 2010-12-02 10:56:00     17850.0  244.46\n",
       "4    536631 2010-12-02 10:58:00     17850.0   22.20"
      ]
     },
     "execution_count": 30,
     "metadata": {},
     "output_type": "execute_result"
    }
   ],
   "source": [
    "df5.head()"
   ]
  },
  {
   "cell_type": "markdown",
   "id": "390afb52",
   "metadata": {},
   "source": [
    "* ***5.Identifying patterns based on Invoice day,month,week,hour,etc.***"
   ]
  },
  {
   "cell_type": "code",
   "execution_count": 110,
   "id": "291e49f5",
   "metadata": {},
   "outputs": [],
   "source": [
    "# Checking pattern on the basis of day,week,hour,etc.\n",
    "df5['Month_name'] = df5['InvoiceDate'].dt.month_name()\n",
    "df5['Month'] = df5['InvoiceDate'].dt.month\n",
    "df5['Day'] = df5['InvoiceDate'].dt.day\n",
    "df5['Hour'] = df5['InvoiceDate'].dt.hour\n",
    "df5['Week'] = df5['InvoiceDate'].dt.week\n",
    "df5['Weekday_name'] = df5['InvoiceDate'].dt.day_name()\n",
    "df5['Weekday'] = df5['InvoiceDate'].dt.dayofweek"
   ]
  },
  {
   "cell_type": "code",
   "execution_count": 33,
   "id": "d9f256d5",
   "metadata": {
    "scrolled": true
   },
   "outputs": [
    {
     "data": {
      "image/png": "[encoded data removed]",
      "text/plain": [
       "<Figure size 700x300 with 1 Axes>"
      ]
     },
     "metadata": {},
     "output_type": "display_data"
    }
   ],
   "source": [
    "plt.figure(figsize = (7,3))\n",
    "month_count = df5['Month'].value_counts().reset_index().rename(columns ={'index':'Month','Month':'Count'}).sort_values('Month')\n",
    "sns.lineplot(data = month_count,x = 'Month',y='Count')\n",
    "plt.title('Count of Invoices by Month of year')\n",
    "plt.show()"
   ]
  },
  {
   "cell_type": "code",
   "execution_count": 34,
   "id": "30e6b944",
   "metadata": {},
   "outputs": [
    {
     "data": {
      "image/png": "[encoded data removed]",
      "text/plain": [
       "<Figure size 700x300 with 1 Axes>"
      ]
     },
     "metadata": {},
     "output_type": "display_data"
    }
   ],
   "source": [
    "plt.figure(figsize = (7,3))\n",
    "week_count = df5['Week'].value_counts().reset_index().rename(columns ={'index':'Week','Week':'Count'}).sort_values('Week')\n",
    "sns.lineplot(data = week_count,x = 'Week',y='Count')\n",
    "plt.title('Count of Invoices by Week of year')\n",
    "plt.show()"
   ]
  },
  {
   "cell_type": "code",
   "execution_count": 35,
   "id": "c613d096",
   "metadata": {
    "scrolled": true
   },
   "outputs": [
    {
     "data": {
      "image/png": "[encoded data removed]",
      "text/plain": [
       "<Figure size 700x300 with 1 Axes>"
      ]
     },
     "metadata": {},
     "output_type": "display_data"
    }
   ],
   "source": [
    "plt.figure(figsize = (7,3))\n",
    "day_count = df5['Day'].value_counts().reset_index().rename(columns ={'index':'Day','Day':'Count'}).sort_values('Day')\n",
    "sns.lineplot(data = day_count,x = 'Day',y='Count')\n",
    "plt.title('Count of Invoices by Day of month')\n",
    "plt.show()"
   ]
  },
  {
   "cell_type": "code",
   "execution_count": 36,
   "id": "63ec0e55",
   "metadata": {
    "scrolled": true
   },
   "outputs": [
    {
     "data": {
      "image/png": "[encoded data removed]",
      "text/plain": [
       "<Figure size 700x300 with 1 Axes>"
      ]
     },
     "metadata": {},
     "output_type": "display_data"
    }
   ],
   "source": [
    "plt.figure(figsize = (7,3))\n",
    "hour_count = df5['Hour'].value_counts().reset_index().rename(columns ={'index':'Hour','Hour':'Count'}).sort_values('Hour')\n",
    "sns.lineplot(data = hour_count,x = 'Hour',y='Count')\n",
    "plt.title('Count of Invoices by Hour of day')\n",
    "plt.show()"
   ]
  },
  {
   "cell_type": "code",
   "execution_count": 111,
   "id": "07627d9a",
   "metadata": {},
   "outputs": [
    {
     "data": {
      "image/png": "[encoded data removed]",
      "text/plain": [
       "<Figure size 700x300 with 1 Axes>"
      ]
     },
     "metadata": {},
     "output_type": "display_data"
    }
   ],
   "source": [
    "plt.figure(figsize = (7,3))\n",
    "df5[['Weekday_name','Weekday']].groupby(['Weekday', 'Weekday_name']).value_counts().sort_index().plot(kind='line', legend=None)\n",
    "plt.title('Count of Invoices by Day of Week')\n",
    "plt.xticks(rotation = 90)\n",
    "plt.show()"
   ]
  },
  {
   "cell_type": "markdown",
   "id": "adc609b4",
   "metadata": {},
   "source": [
    "* ***6.Calculating the Recency,Frequeny & Monetary for a customer.***\n",
    "    * *Based on EDA, the latest invoice date in the dataset is 08-Jun-2011*\n",
    "    * *Setting 10-Jun-2011 as a benchmark to calculate the recency*"
   ]
  },
  {
   "cell_type": "code",
   "execution_count": 37,
   "id": "68a71b03",
   "metadata": {},
   "outputs": [
    {
     "data": {
      "text/plain": [
       "datetime.datetime(2011, 6, 10, 0, 0)"
      ]
     },
     "execution_count": 37,
     "metadata": {},
     "output_type": "execute_result"
    }
   ],
   "source": [
    "import datetime as dt\n",
    "latest_date = dt.datetime(2011,6,10)\n",
    "latest_date"
   ]
  },
  {
   "cell_type": "code",
   "execution_count": 38,
   "id": "5b0c0ca3",
   "metadata": {},
   "outputs": [
    {
     "name": "stdout",
     "output_type": "stream",
     "text": [
      "2011-06-10 00:00:00\n"
     ]
    }
   ],
   "source": [
    "print(latest_date)"
   ]
  },
  {
   "cell_type": "code",
   "execution_count": 39,
   "id": "8868c97a",
   "metadata": {},
   "outputs": [],
   "source": [
    "rfm_score = df5.groupby('CustomerID').agg({'InvoiceDate':lambda x:(latest_date - x.max()).days,\n",
    "                                     'InvoiceNo':lambda x: x.count(),\n",
    "                                     'Total':lambda x:x.sum()\n",
    "                                    }).reset_index()"
   ]
  },
  {
   "cell_type": "code",
   "execution_count": 40,
   "id": "a695f3ef",
   "metadata": {},
   "outputs": [],
   "source": [
    "rfm_score.rename(columns = {'InvoiceDate':'Recency','InvoiceNo':'Frequency','Total':'Monetary'},inplace = True)"
   ]
  },
  {
   "cell_type": "code",
   "execution_count": 41,
   "id": "257a233a",
   "metadata": {
    "scrolled": true
   },
   "outputs": [
    {
     "data": {
      "text/html": [
       "<div>\n",
       "<style scoped>\n",
       "    .dataframe tbody tr th:only-of-type {\n",
       "        vertical-align: middle;\n",
       "    }\n",
       "\n",
       "    .dataframe tbody tr th {\n",
       "        vertical-align: top;\n",
       "    }\n",
       "\n",
       "    .dataframe thead th {\n",
       "        text-align: right;\n",
       "    }\n",
       "</style>\n",
       "<table border=\"1\" class=\"dataframe\">\n",
       "  <thead>\n",
       "    <tr style=\"text-align: right;\">\n",
       "      <th></th>\n",
       "      <th>CustomerID</th>\n",
       "      <th>Recency</th>\n",
       "      <th>Frequency</th>\n",
       "      <th>Monetary</th>\n",
       "    </tr>\n",
       "  </thead>\n",
       "  <tbody>\n",
       "    <tr>\n",
       "      <th>0</th>\n",
       "      <td>12346.0</td>\n",
       "      <td>142</td>\n",
       "      <td>2</td>\n",
       "      <td>77183.60</td>\n",
       "    </tr>\n",
       "    <tr>\n",
       "      <th>1</th>\n",
       "      <td>12347.0</td>\n",
       "      <td>134</td>\n",
       "      <td>1</td>\n",
       "      <td>475.39</td>\n",
       "    </tr>\n",
       "    <tr>\n",
       "      <th>2</th>\n",
       "      <td>12348.0</td>\n",
       "      <td>135</td>\n",
       "      <td>2</td>\n",
       "      <td>1120.24</td>\n",
       "    </tr>\n",
       "    <tr>\n",
       "      <th>3</th>\n",
       "      <td>12350.0</td>\n",
       "      <td>127</td>\n",
       "      <td>1</td>\n",
       "      <td>334.40</td>\n",
       "    </tr>\n",
       "    <tr>\n",
       "      <th>4</th>\n",
       "      <td>12352.0</td>\n",
       "      <td>100</td>\n",
       "      <td>5</td>\n",
       "      <td>1281.15</td>\n",
       "    </tr>\n",
       "  </tbody>\n",
       "</table>\n",
       "</div>"
      ],
      "text/plain": [
       "   CustomerID  Recency  Frequency  Monetary\n",
       "0     12346.0      142          2  77183.60\n",
       "1     12347.0      134          1    475.39\n",
       "2     12348.0      135          2   1120.24\n",
       "3     12350.0      127          1    334.40\n",
       "4     12352.0      100          5   1281.15"
      ]
     },
     "execution_count": 41,
     "metadata": {},
     "output_type": "execute_result"
    }
   ],
   "source": [
    "rfm_score.head()"
   ]
  },
  {
   "cell_type": "markdown",
   "id": "b8299922",
   "metadata": {},
   "source": [
    "* ***7.Setting benchmarks for RFM scoring and rating the R,F & M scores***\n",
    "    * *Recency - For most recent i.e <0.25 percentile setting a high score i.e 4 and accordingly the rest.*\n",
    "    * *Frequency - Setting a high score (4) for most frequent i.e >0.75 percentile and accordingly the rest.*\n",
    "    * *Monetary - Setting a high score (4) for most monetary i.e >0.75 percentile and accordingly the rest.*"
   ]
  },
  {
   "cell_type": "code",
   "execution_count": 42,
   "id": "1c94b996",
   "metadata": {
    "scrolled": true
   },
   "outputs": [
    {
     "data": {
      "text/html": [
       "<div>\n",
       "<style scoped>\n",
       "    .dataframe tbody tr th:only-of-type {\n",
       "        vertical-align: middle;\n",
       "    }\n",
       "\n",
       "    .dataframe tbody tr th {\n",
       "        vertical-align: top;\n",
       "    }\n",
       "\n",
       "    .dataframe thead th {\n",
       "        text-align: right;\n",
       "    }\n",
       "</style>\n",
       "<table border=\"1\" class=\"dataframe\">\n",
       "  <thead>\n",
       "    <tr style=\"text-align: right;\">\n",
       "      <th></th>\n",
       "      <th>CustomerID</th>\n",
       "      <th>Recency</th>\n",
       "      <th>Frequency</th>\n",
       "      <th>Monetary</th>\n",
       "    </tr>\n",
       "  </thead>\n",
       "  <tbody>\n",
       "    <tr>\n",
       "      <th>0.25</th>\n",
       "      <td>13748.50</td>\n",
       "      <td>112.0</td>\n",
       "      <td>1.0</td>\n",
       "      <td>181.3375</td>\n",
       "    </tr>\n",
       "    <tr>\n",
       "      <th>0.50</th>\n",
       "      <td>15172.50</td>\n",
       "      <td>126.0</td>\n",
       "      <td>1.0</td>\n",
       "      <td>340.6050</td>\n",
       "    </tr>\n",
       "    <tr>\n",
       "      <th>0.75</th>\n",
       "      <td>16781.25</td>\n",
       "      <td>142.0</td>\n",
       "      <td>2.0</td>\n",
       "      <td>717.0300</td>\n",
       "    </tr>\n",
       "  </tbody>\n",
       "</table>\n",
       "</div>"
      ],
      "text/plain": [
       "      CustomerID  Recency  Frequency  Monetary\n",
       "0.25    13748.50    112.0        1.0  181.3375\n",
       "0.50    15172.50    126.0        1.0  340.6050\n",
       "0.75    16781.25    142.0        2.0  717.0300"
      ]
     },
     "execution_count": 42,
     "metadata": {},
     "output_type": "execute_result"
    }
   ],
   "source": [
    "quantiles = rfm_score.quantile([0.25,0.5,0.75])\n",
    "quantiles"
   ]
  },
  {
   "cell_type": "code",
   "execution_count": 43,
   "id": "bff80fc5",
   "metadata": {},
   "outputs": [],
   "source": [
    "def R_scoring(x,p,d):\n",
    "    if x <= d[p][0.25]:\n",
    "        return 4\n",
    "    elif x <= d[p][0.5]:\n",
    "        return 3\n",
    "    elif x <= d[p][0.75]:\n",
    "        return 2\n",
    "    else:\n",
    "        return 1\n",
    "\n",
    "def F_M_scoring(x,p,d):\n",
    "    if x <= d[p][0.25]:\n",
    "        return 1\n",
    "    elif x <= d[p][0.5]:\n",
    "        return 2\n",
    "    elif x <= d[p][0.75]:\n",
    "        return 3\n",
    "    else:\n",
    "        return 4"
   ]
  },
  {
   "cell_type": "code",
   "execution_count": 44,
   "id": "1e41944b",
   "metadata": {},
   "outputs": [],
   "source": [
    "rfm_score['R'] = rfm_score['Recency'].apply(R_scoring,args = ('Recency',quantiles))\n",
    "rfm_score['F'] = rfm_score['Frequency'].apply(F_M_scoring,args = ('Frequency',quantiles))\n",
    "rfm_score['M'] = rfm_score['Monetary'].apply(F_M_scoring,args = ('Monetary',quantiles))"
   ]
  },
  {
   "cell_type": "code",
   "execution_count": 45,
   "id": "d2b83cb5",
   "metadata": {
    "scrolled": true
   },
   "outputs": [
    {
     "data": {
      "text/html": [
       "<div>\n",
       "<style scoped>\n",
       "    .dataframe tbody tr th:only-of-type {\n",
       "        vertical-align: middle;\n",
       "    }\n",
       "\n",
       "    .dataframe tbody tr th {\n",
       "        vertical-align: top;\n",
       "    }\n",
       "\n",
       "    .dataframe thead th {\n",
       "        text-align: right;\n",
       "    }\n",
       "</style>\n",
       "<table border=\"1\" class=\"dataframe\">\n",
       "  <thead>\n",
       "    <tr style=\"text-align: right;\">\n",
       "      <th></th>\n",
       "      <th>CustomerID</th>\n",
       "      <th>Recency</th>\n",
       "      <th>Frequency</th>\n",
       "      <th>Monetary</th>\n",
       "      <th>R</th>\n",
       "      <th>F</th>\n",
       "      <th>M</th>\n",
       "    </tr>\n",
       "  </thead>\n",
       "  <tbody>\n",
       "    <tr>\n",
       "      <th>0</th>\n",
       "      <td>12346.0</td>\n",
       "      <td>142</td>\n",
       "      <td>2</td>\n",
       "      <td>77183.60</td>\n",
       "      <td>2</td>\n",
       "      <td>3</td>\n",
       "      <td>4</td>\n",
       "    </tr>\n",
       "    <tr>\n",
       "      <th>1</th>\n",
       "      <td>12347.0</td>\n",
       "      <td>134</td>\n",
       "      <td>1</td>\n",
       "      <td>475.39</td>\n",
       "      <td>2</td>\n",
       "      <td>1</td>\n",
       "      <td>3</td>\n",
       "    </tr>\n",
       "    <tr>\n",
       "      <th>2</th>\n",
       "      <td>12348.0</td>\n",
       "      <td>135</td>\n",
       "      <td>2</td>\n",
       "      <td>1120.24</td>\n",
       "      <td>2</td>\n",
       "      <td>3</td>\n",
       "      <td>4</td>\n",
       "    </tr>\n",
       "    <tr>\n",
       "      <th>3</th>\n",
       "      <td>12350.0</td>\n",
       "      <td>127</td>\n",
       "      <td>1</td>\n",
       "      <td>334.40</td>\n",
       "      <td>2</td>\n",
       "      <td>1</td>\n",
       "      <td>2</td>\n",
       "    </tr>\n",
       "    <tr>\n",
       "      <th>4</th>\n",
       "      <td>12352.0</td>\n",
       "      <td>100</td>\n",
       "      <td>5</td>\n",
       "      <td>1281.15</td>\n",
       "      <td>4</td>\n",
       "      <td>4</td>\n",
       "      <td>4</td>\n",
       "    </tr>\n",
       "  </tbody>\n",
       "</table>\n",
       "</div>"
      ],
      "text/plain": [
       "   CustomerID  Recency  Frequency  Monetary  R  F  M\n",
       "0     12346.0      142          2  77183.60  2  3  4\n",
       "1     12347.0      134          1    475.39  2  1  3\n",
       "2     12348.0      135          2   1120.24  2  3  4\n",
       "3     12350.0      127          1    334.40  2  1  2\n",
       "4     12352.0      100          5   1281.15  4  4  4"
      ]
     },
     "execution_count": 45,
     "metadata": {},
     "output_type": "execute_result"
    }
   ],
   "source": [
    "rfm_score.head()"
   ]
  },
  {
   "cell_type": "markdown",
   "id": "727ef0fa",
   "metadata": {},
   "source": [
    "### Customer Segmentation"
   ]
  },
  {
   "cell_type": "markdown",
   "id": "4eca3717",
   "metadata": {},
   "source": [
    "* ***1.Grouping the customers based on total RFM score***\n",
    "    * Getting the total RFM score\n",
    "    * Labelling the customers as Silver<Gold<Diamond<Platinum based on total RFM score percentiles"
   ]
  },
  {
   "cell_type": "code",
   "execution_count": 46,
   "id": "30b7ce57",
   "metadata": {},
   "outputs": [],
   "source": [
    "rfm_score['RFM_sum'] = rfm_score[['R','F','M']].sum(axis = 1)"
   ]
  },
  {
   "cell_type": "code",
   "execution_count": 47,
   "id": "d25e72a4",
   "metadata": {},
   "outputs": [],
   "source": [
    "loyalty = ['Silver','Gold','Diamond','Platinum']\n",
    "score_cuts = pd.qcut(rfm_score.RFM_sum,q = 4,labels = loyalty)\n",
    "rfm_score['RFM_loyalty'] = score_cuts.values"
   ]
  },
  {
   "cell_type": "code",
   "execution_count": 48,
   "id": "8293e157",
   "metadata": {
    "scrolled": true
   },
   "outputs": [
    {
     "data": {
      "text/html": [
       "<div>\n",
       "<style scoped>\n",
       "    .dataframe tbody tr th:only-of-type {\n",
       "        vertical-align: middle;\n",
       "    }\n",
       "\n",
       "    .dataframe tbody tr th {\n",
       "        vertical-align: top;\n",
       "    }\n",
       "\n",
       "    .dataframe thead th {\n",
       "        text-align: right;\n",
       "    }\n",
       "</style>\n",
       "<table border=\"1\" class=\"dataframe\">\n",
       "  <thead>\n",
       "    <tr style=\"text-align: right;\">\n",
       "      <th></th>\n",
       "      <th>CustomerID</th>\n",
       "      <th>Recency</th>\n",
       "      <th>Frequency</th>\n",
       "      <th>Monetary</th>\n",
       "      <th>R</th>\n",
       "      <th>F</th>\n",
       "      <th>M</th>\n",
       "      <th>RFM_sum</th>\n",
       "      <th>RFM_loyalty</th>\n",
       "    </tr>\n",
       "  </thead>\n",
       "  <tbody>\n",
       "    <tr>\n",
       "      <th>0</th>\n",
       "      <td>12346.0</td>\n",
       "      <td>142</td>\n",
       "      <td>2</td>\n",
       "      <td>77183.60</td>\n",
       "      <td>2</td>\n",
       "      <td>3</td>\n",
       "      <td>4</td>\n",
       "      <td>9</td>\n",
       "      <td>Diamond</td>\n",
       "    </tr>\n",
       "    <tr>\n",
       "      <th>1</th>\n",
       "      <td>12347.0</td>\n",
       "      <td>134</td>\n",
       "      <td>1</td>\n",
       "      <td>475.39</td>\n",
       "      <td>2</td>\n",
       "      <td>1</td>\n",
       "      <td>3</td>\n",
       "      <td>6</td>\n",
       "      <td>Gold</td>\n",
       "    </tr>\n",
       "    <tr>\n",
       "      <th>2</th>\n",
       "      <td>12348.0</td>\n",
       "      <td>135</td>\n",
       "      <td>2</td>\n",
       "      <td>1120.24</td>\n",
       "      <td>2</td>\n",
       "      <td>3</td>\n",
       "      <td>4</td>\n",
       "      <td>9</td>\n",
       "      <td>Diamond</td>\n",
       "    </tr>\n",
       "    <tr>\n",
       "      <th>3</th>\n",
       "      <td>12350.0</td>\n",
       "      <td>127</td>\n",
       "      <td>1</td>\n",
       "      <td>334.40</td>\n",
       "      <td>2</td>\n",
       "      <td>1</td>\n",
       "      <td>2</td>\n",
       "      <td>5</td>\n",
       "      <td>Silver</td>\n",
       "    </tr>\n",
       "    <tr>\n",
       "      <th>4</th>\n",
       "      <td>12352.0</td>\n",
       "      <td>100</td>\n",
       "      <td>5</td>\n",
       "      <td>1281.15</td>\n",
       "      <td>4</td>\n",
       "      <td>4</td>\n",
       "      <td>4</td>\n",
       "      <td>12</td>\n",
       "      <td>Platinum</td>\n",
       "    </tr>\n",
       "  </tbody>\n",
       "</table>\n",
       "</div>"
      ],
      "text/plain": [
       "   CustomerID  Recency  Frequency  Monetary  R  F  M  RFM_sum RFM_loyalty\n",
       "0     12346.0      142          2  77183.60  2  3  4        9     Diamond\n",
       "1     12347.0      134          1    475.39  2  1  3        6        Gold\n",
       "2     12348.0      135          2   1120.24  2  3  4        9     Diamond\n",
       "3     12350.0      127          1    334.40  2  1  2        5      Silver\n",
       "4     12352.0      100          5   1281.15  4  4  4       12    Platinum"
      ]
     },
     "execution_count": 48,
     "metadata": {},
     "output_type": "execute_result"
    }
   ],
   "source": [
    "rfm_score.head()"
   ]
  },
  {
   "cell_type": "code",
   "execution_count": 49,
   "id": "9f7195c8",
   "metadata": {
    "scrolled": false
   },
   "outputs": [
    {
     "data": {
      "text/plain": [
       "Silver      472\n",
       "Gold        361\n",
       "Platinum    330\n",
       "Diamond     265\n",
       "Name: RFM_loyalty, dtype: int64"
      ]
     },
     "execution_count": 49,
     "metadata": {},
     "output_type": "execute_result"
    }
   ],
   "source": [
    "rfm_score['RFM_loyalty'].value_counts()"
   ]
  },
  {
   "cell_type": "code",
   "execution_count": 50,
   "id": "c0cd8864",
   "metadata": {},
   "outputs": [
    {
     "data": {
      "image/png": "[encoded data removed]",
      "text/plain": [
       "<Figure size 640x480 with 1 Axes>"
      ]
     },
     "metadata": {},
     "output_type": "display_data"
    }
   ],
   "source": [
    "colors = sns.cubehelix_palette(8, start=.5, rot=-.75)\n",
    "labels = rfm_score['RFM_loyalty'].value_counts().index\n",
    "plt.pie(rfm_score['RFM_loyalty'].value_counts(),shadow = True,colors = colors,labels = labels,autopct = '%.1f%%')\n",
    "plt.show()"
   ]
  },
  {
   "cell_type": "markdown",
   "id": "e6bc7f79",
   "metadata": {},
   "source": [
    "* ***2.Grouping Customers based on RFM codes***\n",
    "    * *Creating RFM_ID*\n",
    "    * Customer Segment descriptions:\n",
    "        1. Passerby customers - Customers who are not after anything in particular. only buy what might catch their attention.\n",
    "        2. Loyal customers - customers who shop regularly and love this shopping mall\n",
    "        3. New customers - customers who enjoy their last visit to shop and may come back if they find out more about what this mall has to offer\n",
    "        4. Out-of-town customers - They were once loyal customers, but they move to new place and find a closer shopping mall\n",
    "        5. Students - Customers who visit the store often but they dont spend much\n",
    "        6. Dissatisfied customers - They spend a lot on shopping, but the previous purchase didnt suit them\n",
    "        7. Soon-to-be loyal customers - they are 'soon-to-be' loyal customers if the previous purchase suited them and the mall catches their attention"
   ]
  },
  {
   "cell_type": "code",
   "execution_count": 51,
   "id": "6c31cd59",
   "metadata": {},
   "outputs": [],
   "source": [
    "rfm_score['RFM_ID'] = rfm_score['R'].map(str) + rfm_score['F'].map(str) + rfm_score['M'].map(str)"
   ]
  },
  {
   "cell_type": "code",
   "execution_count": 52,
   "id": "f89332b8",
   "metadata": {
    "scrolled": true
   },
   "outputs": [
    {
     "data": {
      "text/plain": [
       "Passerby customers           353\n",
       "Loyal customers              327\n",
       "New customers                219\n",
       "out-of-town customers        212\n",
       "Dissatisfied customers       144\n",
       "Soon-to-be loyal customer    104\n",
       "Students                      69\n",
       "Name: Segment, dtype: int64"
      ]
     },
     "execution_count": 52,
     "metadata": {},
     "output_type": "execute_result"
    }
   ],
   "source": [
    "cust_seg = {r'[1-2][1-2][1-2]':'Passerby customers',\n",
    "           r'[3-4][3-4][3-4]':'Loyal customers',\n",
    "           r'[3-4][1-2][1-2]':'New customers',\n",
    "           r'[1-2][3-4][1-4]':'out-of-town customers',\n",
    "           r'[3-4][3-4][1-2]':'Students',\n",
    "           r'[1-2][1][3-4]':'Dissatisfied customers',\n",
    "           r'[3-4][1][3-4]':'Soon-to-be loyal customer'}\n",
    "\n",
    "rfm_score['Segment'] = rfm_score['RFM_ID'].replace(cust_seg,regex = True)\n",
    "rfm_score['Segment'].value_counts()"
   ]
  },
  {
   "cell_type": "code",
   "execution_count": 53,
   "id": "11cdcb10",
   "metadata": {},
   "outputs": [
    {
     "data": {
      "image/png": "[encoded data removed]",
      "text/plain": [
       "<Figure size 640x480 with 1 Axes>"
      ]
     },
     "metadata": {},
     "output_type": "display_data"
    }
   ],
   "source": [
    "colors = sns.cubehelix_palette(8, start=.5, rot=-.75)\n",
    "labels = rfm_score['Segment'].value_counts().index\n",
    "plt.pie(rfm_score['Segment'].value_counts(),shadow = True,colors = colors,labels = labels,autopct = '%.1f%%')\n",
    "plt.title('Customer Segment Distribution')\n",
    "plt.show()"
   ]
  }
 ],
 "metadata": {
  "kernelspec": {
   "display_name": "Python 3 (ipykernel)",
   "language": "python",
   "name": "python3"
  },
  "language_info": {
   "codemirror_mode": {
    "name": "ipython",
    "version": 3
   },
   "file_extension": ".py",
   "mimetype": "text/x-python",
   "name": "python",
   "nbconvert_exporter": "python",
   "pygments_lexer": "ipython3",
   "version": "3.9.16"
  }
 },
 "nbformat": 4,
 "nbformat_minor": 5
}
